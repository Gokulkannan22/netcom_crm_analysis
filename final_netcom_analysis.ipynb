{
 "cells": [
  {
   "cell_type": "markdown",
   "id": "f178016c-1ab9-4e67-bcfd-f667c494bdf0",
   "metadata": {
    "jp-MarkdownHeadingCollapsed": true
   },
   "source": [
    "### 1. Import All Required Libraries\n",
    "\n",
    "This section loads all the essential Python libraries used across the notebook:\n",
    "\n",
    "- **pandas, numpy** – for data manipulation  \n",
    "- **matplotlib, seaborn** – for visualizations  \n",
    "- **datetime** – for handling date columns  \n",
    "- **LabelEncoder (from sklearn)** – to convert categorical text to numeric  \n",
    "- **warnings** – to suppress non-critical warnings\n"
   ]
  },
  {
   "cell_type": "code",
   "execution_count": 1,
   "id": "d1a8507f-1adb-43e3-8ca4-34150400af81",
   "metadata": {
    "collapsed": true,
    "jupyter": {
     "outputs_hidden": true
    }
   },
   "outputs": [],
   "source": [
    "# Basic data handling\n",
    "import pandas as pd\n",
    "import numpy as np\n",
    "\n",
    "# Visualization\n",
    "import matplotlib.pyplot as plt\n",
    "import seaborn as sns\n",
    "\n",
    "# Date-time processing\n",
    "import datetime as dt\n",
    "\n",
    "# Machine learning preprocessing\n",
    "from sklearn.preprocessing import LabelEncoder\n",
    "\n",
    "# Warnings\n",
    "import warnings\n",
    "warnings.filterwarnings('ignore')\n",
    "\n",
    "# File path\n",
    "file_path = r\"C:\\Users\\gokul\\OneDrive\\Desktop\\projects\\netcom_project\\ToStudent_Leads-Dec2024toMar2025.xlsx\""
   ]
  },
  {
   "cell_type": "markdown",
   "id": "a3f04e45-5694-4d3f-91ba-04535036a531",
   "metadata": {},
   "source": [
    "### 2. Load the Excel File and View Sheets\n",
    "\n",
    "In this section, we:\n",
    "- Load the Excel file using `pd.ExcelFile`\n",
    "- List all available sheet names\n",
    "- Load the first sheet\n",
    "- Display original column names\n"
   ]
  },
  {
   "cell_type": "code",
   "execution_count": 2,
   "id": "ec089518-06c2-4023-baf4-b840194f7b58",
   "metadata": {
    "collapsed": true,
    "jupyter": {
     "outputs_hidden": true
    }
   },
   "outputs": [
    {
     "data": {
      "text/plain": [
       "['Sheet1']"
      ]
     },
     "execution_count": 2,
     "metadata": {},
     "output_type": "execute_result"
    }
   ],
   "source": [
    "excel_file = pd.ExcelFile(file_path)\n",
    "excel_file.sheet_names\n"
   ]
  },
  {
   "cell_type": "code",
   "execution_count": 3,
   "id": "57f2ab7c-93f6-49be-bc29-5b774ff16349",
   "metadata": {
    "collapsed": true,
    "jupyter": {
     "outputs_hidden": true
    }
   },
   "outputs": [
    {
     "data": {
      "text/plain": [
       "['assigner',\n",
       " 'assignee',\n",
       " 'LID',\n",
       " 'Lead By',\n",
       " 'Last Engaged',\n",
       " 'Lead Date',\n",
       " 'Vertical',\n",
       " 'Column Break',\n",
       " 'Company/Name',\n",
       " 'PTC Name',\n",
       " 'Column Break2',\n",
       " 'Column Break3',\n",
       " 'Town',\n",
       " 'District',\n",
       " 'State/UT',\n",
       " 'Column Break4',\n",
       " 'Source',\n",
       " 'Source Category',\n",
       " 'Product',\n",
       " 'Services',\n",
       " 'Walkin Services',\n",
       " 'Rental',\n",
       " 'Project',\n",
       " 'Remarks',\n",
       " 'Status',\n",
       " 'Column Break5',\n",
       " 'Next Followup',\n",
       " 'NF Time',\n",
       " 'NF Age',\n",
       " 'Column Break6',\n",
       " 'Deal Value',\n",
       " 'Sale Date',\n",
       " 'Priority',\n",
       " 'Last Contact',\n",
       " 'Remarks 2']"
      ]
     },
     "execution_count": 3,
     "metadata": {},
     "output_type": "execute_result"
    }
   ],
   "source": [
    "df = excel_file.parse(sheet_name=0)\n",
    "\n",
    "# Show original column names\n",
    "df.columns.tolist()\n"
   ]
  },
  {
   "cell_type": "markdown",
   "id": "faefd829-2cec-4006-9e66-a86f5cbf139c",
   "metadata": {},
   "source": [
    "### 3. Data Cleaning & Basic Exploration\n",
    "\n",
    "In this section, we:\n",
    "- Strip extra spaces from column names\n",
    "- Remove unnecessary columns like \"Column Break\"\n",
    "- Display the cleaned column names\n",
    "- Get a quick overview of the dataset (shape and first few rows)\n",
    "- Check for missing values\n"
   ]
  },
  {
   "cell_type": "code",
   "execution_count": 4,
   "id": "a9a2fa5b-7059-4baf-a01f-bcaa0beef88a",
   "metadata": {
    "collapsed": true,
    "jupyter": {
     "outputs_hidden": true
    }
   },
   "outputs": [
    {
     "data": {
      "text/plain": [
       "['assigner',\n",
       " 'assignee',\n",
       " 'LID',\n",
       " 'Lead By',\n",
       " 'Last Engaged',\n",
       " 'Lead Date',\n",
       " 'Vertical',\n",
       " 'Company/Name',\n",
       " 'PTC Name',\n",
       " 'Town',\n",
       " 'District',\n",
       " 'State/UT',\n",
       " 'Source',\n",
       " 'Source Category',\n",
       " 'Product',\n",
       " 'Services',\n",
       " 'Walkin Services',\n",
       " 'Rental',\n",
       " 'Project',\n",
       " 'Remarks',\n",
       " 'Status',\n",
       " 'Next Followup',\n",
       " 'NF Time',\n",
       " 'NF Age',\n",
       " 'Deal Value',\n",
       " 'Sale Date',\n",
       " 'Priority',\n",
       " 'Last Contact',\n",
       " 'Remarks 2']"
      ]
     },
     "execution_count": 4,
     "metadata": {},
     "output_type": "execute_result"
    }
   ],
   "source": [
    "# Cell 4: Clean column names - remove extra spaces and unnecessary columns like 'Column Break'\n",
    "df.columns = df.columns.str.strip()  # remove extra spaces\n",
    "\n",
    "# Drop columns with 'Column Break' in their name\n",
    "df = df.loc[:, ~df.columns.str.contains(\"Column Break\")]\n",
    "\n",
    "# Show the cleaned column list\n",
    "df.columns.tolist()\n"
   ]
  },
  {
   "cell_type": "code",
   "execution_count": 5,
   "id": "b30ad1d5-4b62-4942-873e-0b8fd3baa2fa",
   "metadata": {
    "collapsed": true,
    "jupyter": {
     "outputs_hidden": true
    }
   },
   "outputs": [
    {
     "name": "stdout",
     "output_type": "stream",
     "text": [
      "Shape of the dataset: (3289, 29)\n"
     ]
    },
    {
     "data": {
      "text/plain": [
       "assigner           1034\n",
       "assignee           1034\n",
       "LID                   0\n",
       "Lead By               0\n",
       "Last Engaged       2386\n",
       "Lead Date             0\n",
       "Vertical              2\n",
       "Company/Name          2\n",
       "PTC Name              1\n",
       "Town                  1\n",
       "District             96\n",
       "State/UT            294\n",
       "Source                1\n",
       "Source Category       1\n",
       "Product            3115\n",
       "Services           3093\n",
       "Walkin Services    3259\n",
       "Rental              805\n",
       "Project            2870\n",
       "Remarks             408\n",
       "Status                0\n",
       "Next Followup      2040\n",
       "NF Time            2583\n",
       "NF Age                0\n",
       "Deal Value            0\n",
       "Sale Date           811\n",
       "Priority           1681\n",
       "Last Contact       2386\n",
       "Remarks 2          3289\n",
       "dtype: int64"
      ]
     },
     "execution_count": 5,
     "metadata": {},
     "output_type": "execute_result"
    }
   ],
   "source": [
    "# Cell 5: Quick overview of the dataset\n",
    "print(\"Shape of the dataset:\", df.shape)\n",
    "df.head(3)  # preview first 3 rows\n",
    "\n",
    "# Check for missing values\n",
    "df.isnull().sum()\n"
   ]
  },
  {
   "cell_type": "markdown",
   "id": "e098cc3f-ddf7-4c2c-9433-19f1d85a5788",
   "metadata": {},
   "source": [
    "### 4. Date Handling & Missing Value Analysis\n",
    "\n",
    "> **Objective:**  \n",
    "> To clean, transform, and validate date-related columns, and to analyze & handle missing values in the dataset:\n",
    "\n",
    "- Converted `Lead Date` and `Sale Date` columns into proper datetime format using `pd.to_datetime`\n",
    "- Filtered out rows where `Sale Date` is before `Lead Date`, ensuring logical lead-to-sale timelines\n",
    "- Created derived features:\n",
    "  - `Lead_to_Sale_Days`: number of days taken to convert a lead into a sale\n",
    "  - `Is_Same_Day_Lead`: flag if lead and sale happened on the same day\n",
    "- Performed missing value analysis using:\n",
    "  - `df.isnull().sum()` and percentage missing\n",
    "  - Heatmap using `seaborn` to visualize missing patterns\n",
    "- Imputed or removed missing values based on relevance and frequency\n",
    "\n",
    "> This step ensures the temporal integrity of the lead lifecycle and prepares the dataset for clean modeling.\n"
   ]
  },
  {
   "cell_type": "code",
   "execution_count": 6,
   "id": "f9379b27-f933-4fb6-a0dd-6f4af66962eb",
   "metadata": {
    "collapsed": true,
    "jupyter": {
     "outputs_hidden": true
    }
   },
   "outputs": [
    {
     "data": {
      "text/plain": [
       "Last Engaged     datetime64[ns]\n",
       "Lead Date        datetime64[ns]\n",
       "Next Followup    datetime64[ns]\n",
       "Sale Date        datetime64[ns]\n",
       "Last Contact     datetime64[ns]\n",
       "dtype: object"
      ]
     },
     "execution_count": 6,
     "metadata": {},
     "output_type": "execute_result"
    }
   ],
   "source": [
    "# Cell 6: Convert date/time fields to datetime objects\n",
    "date_cols = ['Last Engaged', 'Lead Date', 'Next Followup', 'Sale Date', 'Last Contact']\n",
    "for col in date_cols:\n",
    "    df[col] = pd.to_datetime(df[col], errors='coerce')\n",
    "\n",
    "# Check if conversion worked\n",
    "df[date_cols].dtypes\n"
   ]
  },
  {
   "cell_type": "code",
   "execution_count": 7,
   "id": "2bb5a535-3039-4fde-ab71-be753021c642",
   "metadata": {
    "collapsed": true,
    "jupyter": {
     "outputs_hidden": true
    }
   },
   "outputs": [
    {
     "name": "stdout",
     "output_type": "stream",
     "text": [
      "Remaining columns: ['assigner', 'assignee', 'LID', 'Lead By', 'Last Engaged', 'Lead Date', 'Vertical', 'Company/Name', 'PTC Name', 'Town', 'District', 'State/UT', 'Source', 'Source Category', 'Services', 'Rental', 'Project', 'Remarks', 'Status', 'Next Followup', 'NF Time', 'NF Age', 'Deal Value', 'Sale Date', 'Priority', 'Last Contact']\n",
      "New shape: (3289, 26)\n"
     ]
    }
   ],
   "source": [
    "# Safe drop: even if some columns are missing, no error will be raised\n",
    "cols_to_drop = ['Walkin Services', 'Product', 'Remarks 2',\n",
    "                'Column Break', 'Column Break2', 'Column Break3',\n",
    "                'Column Break4', 'Column Break5', 'Column Break6']\n",
    "\n",
    "df.drop(columns=cols_to_drop, inplace=True, errors='ignore')\n",
    "\n",
    "print(\"Remaining columns:\", df.columns.tolist())\n",
    "print(\"New shape:\", df.shape)\n"
   ]
  },
  {
   "cell_type": "code",
   "execution_count": 8,
   "id": "f095a2b4-366f-4534-b007-e2fde9e3f20c",
   "metadata": {
    "collapsed": true,
    "jupyter": {
     "outputs_hidden": true
    }
   },
   "outputs": [
    {
     "data": {
      "text/html": [
       "<div>\n",
       "<style scoped>\n",
       "    .dataframe tbody tr th:only-of-type {\n",
       "        vertical-align: middle;\n",
       "    }\n",
       "\n",
       "    .dataframe tbody tr th {\n",
       "        vertical-align: top;\n",
       "    }\n",
       "\n",
       "    .dataframe thead th {\n",
       "        text-align: right;\n",
       "    }\n",
       "</style>\n",
       "<table border=\"1\" class=\"dataframe\">\n",
       "  <thead>\n",
       "    <tr style=\"text-align: right;\">\n",
       "      <th></th>\n",
       "      <th>Missing Count</th>\n",
       "      <th>Missing %</th>\n",
       "    </tr>\n",
       "  </thead>\n",
       "  <tbody>\n",
       "    <tr>\n",
       "      <th>Last Engaged</th>\n",
       "      <td>3289</td>\n",
       "      <td>100.00</td>\n",
       "    </tr>\n",
       "    <tr>\n",
       "      <th>Services</th>\n",
       "      <td>3093</td>\n",
       "      <td>94.04</td>\n",
       "    </tr>\n",
       "    <tr>\n",
       "      <th>Project</th>\n",
       "      <td>2870</td>\n",
       "      <td>87.26</td>\n",
       "    </tr>\n",
       "    <tr>\n",
       "      <th>NF Time</th>\n",
       "      <td>2583</td>\n",
       "      <td>78.53</td>\n",
       "    </tr>\n",
       "    <tr>\n",
       "      <th>Last Contact</th>\n",
       "      <td>2386</td>\n",
       "      <td>72.54</td>\n",
       "    </tr>\n",
       "    <tr>\n",
       "      <th>Next Followup</th>\n",
       "      <td>2040</td>\n",
       "      <td>62.02</td>\n",
       "    </tr>\n",
       "    <tr>\n",
       "      <th>Priority</th>\n",
       "      <td>1681</td>\n",
       "      <td>51.11</td>\n",
       "    </tr>\n",
       "    <tr>\n",
       "      <th>assignee</th>\n",
       "      <td>1034</td>\n",
       "      <td>31.44</td>\n",
       "    </tr>\n",
       "    <tr>\n",
       "      <th>assigner</th>\n",
       "      <td>1034</td>\n",
       "      <td>31.44</td>\n",
       "    </tr>\n",
       "    <tr>\n",
       "      <th>Sale Date</th>\n",
       "      <td>811</td>\n",
       "      <td>24.66</td>\n",
       "    </tr>\n",
       "    <tr>\n",
       "      <th>Rental</th>\n",
       "      <td>805</td>\n",
       "      <td>24.48</td>\n",
       "    </tr>\n",
       "    <tr>\n",
       "      <th>Remarks</th>\n",
       "      <td>408</td>\n",
       "      <td>12.40</td>\n",
       "    </tr>\n",
       "    <tr>\n",
       "      <th>State/UT</th>\n",
       "      <td>294</td>\n",
       "      <td>8.94</td>\n",
       "    </tr>\n",
       "    <tr>\n",
       "      <th>District</th>\n",
       "      <td>96</td>\n",
       "      <td>2.92</td>\n",
       "    </tr>\n",
       "    <tr>\n",
       "      <th>Vertical</th>\n",
       "      <td>2</td>\n",
       "      <td>0.06</td>\n",
       "    </tr>\n",
       "    <tr>\n",
       "      <th>Company/Name</th>\n",
       "      <td>2</td>\n",
       "      <td>0.06</td>\n",
       "    </tr>\n",
       "    <tr>\n",
       "      <th>Town</th>\n",
       "      <td>1</td>\n",
       "      <td>0.03</td>\n",
       "    </tr>\n",
       "    <tr>\n",
       "      <th>PTC Name</th>\n",
       "      <td>1</td>\n",
       "      <td>0.03</td>\n",
       "    </tr>\n",
       "    <tr>\n",
       "      <th>Source</th>\n",
       "      <td>1</td>\n",
       "      <td>0.03</td>\n",
       "    </tr>\n",
       "    <tr>\n",
       "      <th>Source Category</th>\n",
       "      <td>1</td>\n",
       "      <td>0.03</td>\n",
       "    </tr>\n",
       "  </tbody>\n",
       "</table>\n",
       "</div>"
      ],
      "text/plain": [
       "                 Missing Count  Missing %\n",
       "Last Engaged              3289     100.00\n",
       "Services                  3093      94.04\n",
       "Project                   2870      87.26\n",
       "NF Time                   2583      78.53\n",
       "Last Contact              2386      72.54\n",
       "Next Followup             2040      62.02\n",
       "Priority                  1681      51.11\n",
       "assignee                  1034      31.44\n",
       "assigner                  1034      31.44\n",
       "Sale Date                  811      24.66\n",
       "Rental                     805      24.48\n",
       "Remarks                    408      12.40\n",
       "State/UT                   294       8.94\n",
       "District                    96       2.92\n",
       "Vertical                     2       0.06\n",
       "Company/Name                 2       0.06\n",
       "Town                         1       0.03\n",
       "PTC Name                     1       0.03\n",
       "Source                       1       0.03\n",
       "Source Category              1       0.03"
      ]
     },
     "execution_count": 8,
     "metadata": {},
     "output_type": "execute_result"
    }
   ],
   "source": [
    "# Null value count and percentage\n",
    "null_counts = df.isnull().sum()\n",
    "null_percent = (null_counts / len(df)) * 100\n",
    "\n",
    "# Combine into one DataFrame for clarity\n",
    "null_summary = pd.DataFrame({\n",
    "    'Missing Count': null_counts,\n",
    "    'Missing %': null_percent.round(2)\n",
    "}).sort_values(by='Missing %', ascending=False)\n",
    "\n",
    "# Show only columns with missing values\n",
    "null_summary[null_summary['Missing Count'] > 0]\n"
   ]
  },
  {
   "cell_type": "code",
   "execution_count": 9,
   "id": "ad2d7fed-0fd9-4aea-898c-85ac1ebdcde2",
   "metadata": {
    "collapsed": true,
    "jupyter": {
     "outputs_hidden": true
    }
   },
   "outputs": [
    {
     "name": "stdout",
     "output_type": "stream",
     "text": [
      "Dropped columns with too many nulls.\n",
      "Remaining columns: ['assigner', 'assignee', 'LID', 'Lead By', 'Lead Date', 'Vertical', 'Company/Name', 'PTC Name', 'Town', 'District', 'State/UT', 'Source', 'Source Category', 'Rental', 'Remarks', 'Status', 'Next Followup', 'NF Time', 'NF Age', 'Deal Value', 'Sale Date', 'Priority', 'Last Contact']\n",
      "New shape: (3289, 23)\n"
     ]
    }
   ],
   "source": [
    "# Drop columns with too many missing values\n",
    "cols_to_drop_nulls = ['Last Engaged', 'Services', 'Project']\n",
    "df.drop(columns=cols_to_drop_nulls, inplace=True)\n",
    "\n",
    "print(\"Dropped columns with too many nulls.\")\n",
    "print(\"Remaining columns:\", df.columns.tolist())\n",
    "print(\"New shape:\", df.shape)\n"
   ]
  },
  {
   "cell_type": "code",
   "execution_count": 10,
   "id": "15a1230c-da9f-4305-8659-acf3c6e131c5",
   "metadata": {},
   "outputs": [
    {
     "name": "stdout",
     "output_type": "stream",
     "text": [
      "Missing values after imputation:\n",
      " assigner              0\n",
      "assignee              0\n",
      "LID                   0\n",
      "Lead By               0\n",
      "Lead Date             0\n",
      "Vertical              0\n",
      "Company/Name          0\n",
      "PTC Name              0\n",
      "Town                  0\n",
      "District              0\n",
      "State/UT              0\n",
      "Source                0\n",
      "Source Category       0\n",
      "Rental                0\n",
      "Remarks               0\n",
      "Status                0\n",
      "Next Followup      2040\n",
      "NF Time            2583\n",
      "NF Age                0\n",
      "Deal Value            0\n",
      "Sale Date           811\n",
      "Priority           1681\n",
      "Last Contact       2386\n",
      "dtype: int64\n"
     ]
    }
   ],
   "source": [
    "# Fill missing person-related fields\n",
    "df['assigner'] = df['assigner'].fillna('Unassigned')\n",
    "df['assignee'] = df['assignee'].fillna('Unassigned')\n",
    "\n",
    "# Fill geographic and company-related fields\n",
    "for col in ['Vertical', 'Company/Name', 'PTC Name', 'Town', 'District', 'State/UT', 'Source', 'Source Category']:\n",
    "    df[col] = df[col].fillna('Unknown')\n",
    "\n",
    "# Fill text remarks\n",
    "df['Remarks'] = df['Remarks'].fillna('')\n",
    "\n",
    "# Rental status as category\n",
    "df['Rental'] = df['Rental'].fillna('Unknown')\n",
    "\n",
    "# Print to confirm\n",
    "print(\"Missing values after imputation:\\n\", df.isnull().sum())\n"
   ]
  },
  {
   "cell_type": "code",
   "execution_count": 11,
   "id": "5a818e68-53cc-49a7-a907-6e4a19b44582",
   "metadata": {
    "collapsed": true,
    "jupyter": {
     "outputs_hidden": true
    }
   },
   "outputs": [
    {
     "name": "stdout",
     "output_type": "stream",
     "text": [
      "Lead Date        datetime64[ns]\n",
      "Next Followup    datetime64[ns]\n",
      "Sale Date        datetime64[ns]\n",
      "Last Contact     datetime64[ns]\n",
      "dtype: object\n",
      "            Lead Date Next Followup  Sale Date Last Contact\n",
      "0 2025-03-19 11:35:00    2025-03-19 2025-03-19          NaT\n",
      "1 2025-03-19 11:35:00           NaT 2025-03-15          NaT\n",
      "2 2025-03-19 11:33:00    2025-03-19 2025-03-19          NaT\n",
      "3 2025-03-19 11:32:00           NaT 2025-03-14          NaT\n",
      "4 2025-03-19 11:31:00    2025-03-19 2025-03-19          NaT\n"
     ]
    }
   ],
   "source": [
    "# Convert columns to datetime\n",
    "date_cols = ['Lead Date', 'Next Followup', 'Sale Date', 'Last Contact']\n",
    "for col in date_cols:\n",
    "    df[col] = pd.to_datetime(df[col], errors='coerce')\n",
    "\n",
    "# Check dtypes and sample values\n",
    "print(df[date_cols].dtypes)\n",
    "print(df[date_cols].head())\n"
   ]
  },
  {
   "cell_type": "code",
   "execution_count": 12,
   "id": "702f133a-d92b-41b0-8728-eb1664f2eed9",
   "metadata": {
    "collapsed": true,
    "jupyter": {
     "outputs_hidden": true
    }
   },
   "outputs": [
    {
     "name": "stdout",
     "output_type": "stream",
     "text": [
      "            Lead Date  Sale Date  Days to Sale  Has Last Contact\n",
      "0 2025-03-19 11:35:00 2025-03-19          -1.0                 0\n",
      "1 2025-03-19 11:35:00 2025-03-15          -5.0                 0\n",
      "2 2025-03-19 11:33:00 2025-03-19          -1.0                 0\n",
      "3 2025-03-19 11:32:00 2025-03-14          -6.0                 0\n",
      "4 2025-03-19 11:31:00 2025-03-19          -1.0                 0\n"
     ]
    }
   ],
   "source": [
    "# Lead Date features\n",
    "df['Lead Year'] = df['Lead Date'].dt.year\n",
    "df['Lead Month'] = df['Lead Date'].dt.month\n",
    "df['Lead Day'] = df['Lead Date'].dt.day\n",
    "df['Lead Hour'] = df['Lead Date'].dt.hour\n",
    "\n",
    "# Sale Month\n",
    "df['Sale Month'] = df['Sale Date'].dt.month\n",
    "\n",
    "# Days to Sale\n",
    "df['Days to Sale'] = (df['Sale Date'] - df['Lead Date']).dt.days\n",
    "\n",
    "# Has Last Contact\n",
    "df['Has Last Contact'] = df['Last Contact'].notna().astype(int)\n",
    "\n",
    "# Quick check\n",
    "print(df[['Lead Date', 'Sale Date', 'Days to Sale', 'Has Last Contact']].head())\n"
   ]
  },
  {
   "cell_type": "code",
   "execution_count": 13,
   "id": "db4f4922-e8b2-44b3-85ca-1d812aadb07c",
   "metadata": {
    "collapsed": true,
    "jupyter": {
     "outputs_hidden": true
    }
   },
   "outputs": [],
   "source": [
    "# Filter rows where Sale Date is after or equal to Lead Date\n",
    "df = df[df['Sale Date'] >= df['Lead Date']].copy()\n",
    "\n",
    "# Recalculate Days to Sale\n",
    "df['Days to Sale'] = (df['Sale Date'] - df['Lead Date']).dt.days\n"
   ]
  },
  {
   "cell_type": "markdown",
   "id": "8136aaec-8071-4a25-8a40-a35f765843cf",
   "metadata": {},
   "source": [
    "### 5. Feature Engineering & Transformation\n",
    "\n",
    "> **Objective:**  \n",
    "> To extract meaningful features and standardize categorical fields for better model performance and interpretability:\n",
    "\n",
    "-  **Priority Column Handling**\n",
    "  - Replaced ambiguous \"Normal|Urgent\" with just \"Urgent\"\n",
    "  - Filled missing priority values with \"Normal\" to maintain consistency\n",
    "\n",
    "-  **Remarks Column Processing**\n",
    "  - Cleaned text: removed leading/trailing spaces, converted to lowercase\n",
    "  - Filtered out meaningless remarks like: `'ok', '.', '-', '', 'na', 'n/a', 'none'`\n",
    "  - Engineered new features:\n",
    "    - `Has_Remarks`: binary flag (1 if remarks present, else 0)\n",
    "    - `Remarks_Length`: character count of the remarks\n",
    "    - `Has_Valid_Remarks`: binary flag (1 if remark is meaningful, else 0)\n",
    "\n",
    "> These engineered features help capture lead intent and engagement while reducing noise in the text fields.\n"
   ]
  },
  {
   "cell_type": "code",
   "execution_count": 14,
   "id": "14afa653-46d8-4758-bd29-7149d3118428",
   "metadata": {
    "collapsed": true,
    "jupyter": {
     "outputs_hidden": true
    }
   },
   "outputs": [
    {
     "name": "stdout",
     "output_type": "stream",
     "text": [
      "Unique Priority values:\n",
      " Priority\n",
      "Normal            204\n",
      "Urgent             90\n",
      "NaN                58\n",
      "Normal||Urgent      1\n",
      "Name: count, dtype: int64\n",
      "\n",
      "Missing values in Priority: 58\n"
     ]
    }
   ],
   "source": [
    "# Priority column overview\n",
    "print(\"Unique Priority values:\\n\", df['Priority'].value_counts(dropna=False))\n",
    "print(\"\\nMissing values in Priority:\", df['Priority'].isna().sum())\n"
   ]
  },
  {
   "cell_type": "code",
   "execution_count": 15,
   "id": "c0a282bd-a8ae-4bf3-aa4f-049c25d47882",
   "metadata": {
    "collapsed": true,
    "jupyter": {
     "outputs_hidden": true
    }
   },
   "outputs": [],
   "source": [
    "# Replace bad entry\n",
    "df['Priority'] = df['Priority'].replace('Normal||Urgent', 'Urgent')\n",
    "\n",
    "# Fill missing values with most frequent value\n",
    "df['Priority'] = df['Priority'].fillna('Normal')\n"
   ]
  },
  {
   "cell_type": "code",
   "execution_count": 16,
   "id": "0c3434d1-804b-4a3d-b2f0-fcffe48fd3d7",
   "metadata": {
    "collapsed": true,
    "jupyter": {
     "outputs_hidden": true
    }
   },
   "outputs": [
    {
     "name": "stdout",
     "output_type": "stream",
     "text": [
      "Missing values in Remarks: 0\n",
      "\n",
      "Number of unique entries: 243\n",
      "\n",
      "Sample remarks:\n",
      " ['completed work & payment received' 'Required i3,i5 10th gen system'\n",
      " 'called the customer . he came to office & rented a lap for 1 month '\n",
      " 'Laptop for Rent monthly plz call him' 'Laptop Service plz call him']\n"
     ]
    }
   ],
   "source": [
    "# Basic info\n",
    "print(\"Missing values in Remarks:\", df['Remarks'].isna().sum())\n",
    "print(\"\\nNumber of unique entries:\", df['Remarks'].nunique())\n",
    "print(\"\\nSample remarks:\\n\", df['Remarks'].dropna().sample(5, random_state=1).values)\n"
   ]
  },
  {
   "cell_type": "code",
   "execution_count": 17,
   "id": "eca55560-85bf-4572-86ad-6bba463b07d1",
   "metadata": {
    "collapsed": true,
    "jupyter": {
     "outputs_hidden": true
    }
   },
   "outputs": [
    {
     "data": {
      "text/plain": [
       "244     asked to whatsapp and need to call on wednesda...\n",
       "1326                                         details send\n",
       "1461                 laptop for rent monthly plz call him\n",
       "1777          biometric machine installation plz call him\n",
       "1367                        i5 desktop with 4 gb graphics\n",
       "Name: Remarks, dtype: object"
      ]
     },
     "execution_count": 17,
     "metadata": {},
     "output_type": "execute_result"
    }
   ],
   "source": [
    "# Define list of meaningless fillers\n",
    "meaningless = ['', 'ok', '.', '-', 'na', 'n/a', 'no remarks', 'none']\n",
    "\n",
    "# Standardize and clean remarks\n",
    "df['Remarks'] = df['Remarks'].astype(str).str.strip().str.lower()\n",
    "df['Remarks'] = df['Remarks'].replace(meaningless, np.nan)\n",
    "\n",
    "# View cleaned sample\n",
    "df['Remarks'].sample(5, random_state=2)\n"
   ]
  },
  {
   "cell_type": "code",
   "execution_count": 18,
   "id": "2bbde598-9820-4f8a-8cf8-176418163c04",
   "metadata": {
    "collapsed": true,
    "jupyter": {
     "outputs_hidden": true
    }
   },
   "outputs": [],
   "source": [
    "# Add text-based features\n",
    "df['Has_Remarks'] = df['Remarks'].notna().astype(int)\n",
    "df['Remarks_Length'] = df['Remarks'].fillna('').apply(len)\n"
   ]
  },
  {
   "cell_type": "code",
   "execution_count": 19,
   "id": "0af8a465-b4d9-4cbc-905b-f8bd646e97fe",
   "metadata": {
    "collapsed": true,
    "jupyter": {
     "outputs_hidden": true
    }
   },
   "outputs": [],
   "source": [
    "low_info_keywords = ['ok', 'call', 'details send', 'call back', 'talked', 'called', 'not answered']\n",
    "\n",
    "# Safe check for strings before using .lower()\n",
    "df['Remarks_Cleaned'] = df['Remarks'].apply(\n",
    "    lambda x: np.nan if isinstance(x, str) and any(kw in x.lower() for kw in low_info_keywords) else x\n",
    ")"
   ]
  },
  {
   "cell_type": "code",
   "execution_count": 20,
   "id": "d676c9b0-abe3-4856-aaf9-eccf51c05322",
   "metadata": {
    "collapsed": true,
    "jupyter": {
     "outputs_hidden": true
    }
   },
   "outputs": [],
   "source": [
    "# Binary flag for meaningful remarks\n",
    "df['Has_Valid_Remarks'] = df['Remarks_Cleaned'].notna().astype(int)\n",
    "\n",
    "# Character length of original remarks\n",
    "df['Remarks_Length'] = df['Remarks'].apply(lambda x: len(x) if isinstance(x, str) else 0)\n"
   ]
  },
  {
   "cell_type": "markdown",
   "id": "ebf830fc-aa6e-42f7-b113-4261a6aff551",
   "metadata": {},
   "source": [
    "### 6. Status Column Standardization\n",
    "\n",
    "> **Objective:**  \n",
    "> To clean and unify the `Status` column for consistent analysis and reliable model input.\n",
    "\n",
    "-  **Cleaned inconsistent entries**:\n",
    "  - Mapped variations like:\n",
    "    - `\"follow up\", \"Follow up\"` → `\"Follow Up\"`\n",
    "    - `\"done\", \"Completed\"` → `\"Closed\"`\n",
    "    - `\"Not interested\", \"cancelled\"` → `\"Dropped\"`\n",
    "\n",
    "-  **Handled missing values**:\n",
    "  - Filled nulls in the `Status` column with `\"Unknown\"`\n",
    "\n",
    "-  **Encoded categorical status**:\n",
    "  - Created `Status_Cleaned` for standardized labels\n",
    "  - Used `LabelEncoder` to convert into `Status_Code` for modeling\n",
    "\n",
    "> This ensures the status field is machine-readable and grouped logically, improving classification accuracy and interpretability.\n"
   ]
  },
  {
   "cell_type": "code",
   "execution_count": 22,
   "id": "430ed566-b2ac-412d-82a5-1bf5c2f001c5",
   "metadata": {
    "collapsed": true,
    "jupyter": {
     "outputs_hidden": true
    }
   },
   "outputs": [
    {
     "name": "stdout",
     "output_type": "stream",
     "text": [
      "Unique Status values:\n",
      " Status\n",
      "#5 Sold      152\n",
      "#3 Quoted     61\n",
      "#2 Cold       45\n",
      "#4 Hot        34\n",
      "#1 New        31\n",
      "#6 Lost       30\n",
      "Name: count, dtype: int64\n"
     ]
    }
   ],
   "source": [
    "print(\"Unique Status values:\\n\", df['Status'].value_counts(dropna=False))\n"
   ]
  },
  {
   "cell_type": "code",
   "execution_count": 23,
   "id": "30aa4217-fac5-4a71-8846-11aa73fa7eb8",
   "metadata": {
    "collapsed": true,
    "jupyter": {
     "outputs_hidden": true
    }
   },
   "outputs": [],
   "source": [
    "status_map = {\n",
    "    'follow up': 'Follow Up',\n",
    "    'FOLLOWUP': 'Follow Up',\n",
    "    'Follow up': 'Follow Up',\n",
    "    'done': 'Closed',\n",
    "    'Completed': 'Closed',\n",
    "    'closed': 'Closed',\n",
    "    'rent started': 'Closed',\n",
    "    'Not interested': 'Dropped',\n",
    "    'not interested': 'Dropped',\n",
    "    'cancelled': 'Dropped',\n",
    "    # Add more if needed\n",
    "}\n"
   ]
  },
  {
   "cell_type": "code",
   "execution_count": 24,
   "id": "c082a92b-35a4-41bf-a46d-d6cd06b9fd0c",
   "metadata": {
    "collapsed": true,
    "jupyter": {
     "outputs_hidden": true
    }
   },
   "outputs": [],
   "source": [
    "df['Status_Cleaned'] = df['Status'].str.strip().replace(status_map)\n"
   ]
  },
  {
   "cell_type": "code",
   "execution_count": 25,
   "id": "dcd73cbf-e2f0-4489-abc8-067bb2f19a88",
   "metadata": {
    "collapsed": true,
    "jupyter": {
     "outputs_hidden": true
    }
   },
   "outputs": [],
   "source": [
    "df['Status_Cleaned'] = df['Status_Cleaned'].fillna('Unknown')\n"
   ]
  },
  {
   "cell_type": "code",
   "execution_count": 26,
   "id": "8eab0c00-b3d6-4b1d-8c61-868f4a03d925",
   "metadata": {
    "collapsed": true,
    "jupyter": {
     "outputs_hidden": true
    }
   },
   "outputs": [],
   "source": [
    "le = LabelEncoder()\n",
    "df['Status_Code'] = le.fit_transform(df['Status_Cleaned'])"
   ]
  },
  {
   "cell_type": "markdown",
   "id": "729db0c8-46b6-4a6d-927a-57f12b993436",
   "metadata": {},
   "source": [
    "### 7. Source & Source Category Cleaning and Encoding\n",
    "\n",
    "> **Objective:**  \n",
    "> To clean and consolidate the `Source` and `Source Category` columns, and convert them into model-friendly formats.\n",
    "\n",
    "-  **Text cleaning applied**:\n",
    "  - Used `.str.strip().str.title()` to standardize casing and remove extra spaces.\n",
    "\n",
    "-  **Consolidated low-frequency entries**:\n",
    "  - Rare values in `Source` and `Source Category` grouped as `\"Other\"` for simplification.\n",
    "\n",
    "-  **Label Encoding performed**:\n",
    "  - `Source` → `Source_Encoded`\n",
    "  - `Source Category` → `Source_Category_Encoded`\n",
    "\n",
    "-  **Visualized source quality**:\n",
    "  - Created a `countplot` of lead `Status` by `Source` to identify strong/weak sources.\n",
    "\n",
    "> This step reduces noise, improves interpretability, and ensures categorical features are ready for ML models.\n"
   ]
  },
  {
   "cell_type": "code",
   "execution_count": 27,
   "id": "06a29cc1-6b91-4234-bb8f-22f0f82e4c56",
   "metadata": {
    "collapsed": true,
    "jupyter": {
     "outputs_hidden": true
    }
   },
   "outputs": [
    {
     "name": "stdout",
     "output_type": "stream",
     "text": [
      "Unique Sources: 15\n",
      "Source\n",
      "Google                186\n",
      "Just Dial              44\n",
      "Staff  Netcom          40\n",
      "Existing Customer      22\n",
      "Walkin                 17\n",
      "Staff                  12\n",
      "Sreejith K             12\n",
      "WhatsApp                6\n",
      "Shimjith  Methatta      5\n",
      "Regular Customer        4\n",
      "Name: count, dtype: int64\n",
      "\n",
      "Unique Source Categories: 13\n",
      "Source Category\n",
      "Google           186\n",
      "Just Dial         45\n",
      "Staff             38\n",
      "Customer          26\n",
      "Walkin            16\n",
      "STAFF             12\n",
      "Balachandar P      9\n",
      "WhatsApp           8\n",
      "Management         5\n",
      "Subhash KE         5\n",
      "Name: count, dtype: int64\n"
     ]
    }
   ],
   "source": [
    "print(\"Unique Sources:\", df['Source'].nunique())\n",
    "print(df['Source'].value_counts().head(10))\n",
    "\n",
    "print(\"\\nUnique Source Categories:\", df['Source Category'].nunique())\n",
    "print(df['Source Category'].value_counts().head(10))\n"
   ]
  },
  {
   "cell_type": "code",
   "execution_count": 28,
   "id": "6643661f-7eca-4bbd-b64c-152a7970f330",
   "metadata": {
    "collapsed": true,
    "jupyter": {
     "outputs_hidden": true
    }
   },
   "outputs": [],
   "source": [
    "top_sources = df['Source'].value_counts().nlargest(6).index\n",
    "df['Source'] = df['Source'].apply(lambda x: x if x in top_sources else 'Other')\n"
   ]
  },
  {
   "cell_type": "code",
   "execution_count": 29,
   "id": "71fdb652-b7e8-4e7f-b911-8cc04cf9085a",
   "metadata": {
    "collapsed": true,
    "jupyter": {
     "outputs_hidden": true
    }
   },
   "outputs": [],
   "source": [
    "top_source_categories = df['Source Category'].value_counts().nlargest(6).index\n",
    "df['Source Category'] = df['Source Category'].apply(lambda x: x if x in top_source_categories else 'Other')\n"
   ]
  },
  {
   "cell_type": "code",
   "execution_count": 30,
   "id": "55d5e86e-44a1-4104-bfd9-6f91f2b06a7d",
   "metadata": {
    "collapsed": true,
    "jupyter": {
     "outputs_hidden": true
    }
   },
   "outputs": [],
   "source": [
    "df['Source'] = df['Source'].str.title().str.strip()\n",
    "df['Source Category'] = df['Source Category'].str.title().str.strip()\n"
   ]
  },
  {
   "cell_type": "code",
   "execution_count": 31,
   "id": "da4298b5-578c-44f2-a068-00a70bee7826",
   "metadata": {
    "collapsed": true,
    "jupyter": {
     "outputs_hidden": true
    }
   },
   "outputs": [],
   "source": [
    "from sklearn.preprocessing import LabelEncoder\n",
    "\n",
    "le_source = LabelEncoder()\n",
    "le_source_cat = LabelEncoder()\n",
    "\n",
    "df['Source_encoded'] = le_source.fit_transform(df['Source'])\n",
    "df['Source_Category_encoded'] = le_source_cat.fit_transform(df['Source Category'])\n"
   ]
  },
  {
   "cell_type": "code",
   "execution_count": 32,
   "id": "220ecb3e-3eea-43e8-b1c6-7a864fbd629a",
   "metadata": {
    "collapsed": true,
    "jupyter": {
     "outputs_hidden": true
    }
   },
   "outputs": [
    {
     "data": {
      "image/png": "[encoded data removed]",
      "text/plain": [
       "<Figure size 1000x500 with 1 Axes>"
      ]
     },
     "metadata": {},
     "output_type": "display_data"
    }
   ],
   "source": [
    "import seaborn as sns\n",
    "import matplotlib.pyplot as plt\n",
    "\n",
    "plt.figure(figsize=(10,5))\n",
    "sns.countplot(data=df, x='Source', hue='Status')\n",
    "plt.title('Status Distribution by Source')\n",
    "plt.xticks(rotation=45)\n",
    "plt.tight_layout()\n",
    "plt.show()\n"
   ]
  },
  {
   "cell_type": "markdown",
   "id": "38110838-30f3-4946-ad66-80a0c4e59dbe",
   "metadata": {},
   "source": [
    "### 8. Lead Source Quality Scoring\n",
    "\n",
    "> **Objective:**  \n",
    "> To assign a numeric quality score to each lead source based on its performance in converting leads."
   ]
  },
  {
   "cell_type": "code",
   "execution_count": 34,
   "id": "ff3dd227-aab5-4d4e-aa5c-bb144041d630",
   "metadata": {
    "collapsed": true,
    "jupyter": {
     "outputs_hidden": true
    }
   },
   "outputs": [
    {
     "data": {
      "text/plain": [
       "Source\n",
       "Google               452\n",
       "Existing Customer    110\n",
       "Just Dial            107\n",
       "Other                105\n",
       "Staff  Netcom         74\n",
       "dtype: int64"
      ]
     },
     "execution_count": 34,
     "metadata": {},
     "output_type": "execute_result"
    }
   ],
   "source": [
    "# Define updated weights\n",
    "score_weights = {\n",
    "    '#1 New': 1,\n",
    "    '#2 Cold': -2,\n",
    "    '#3 Quoted': 3,\n",
    "    '#4 Hot': 4,\n",
    "    '#5 Sold': 5,\n",
    "    '#6 Lost': -3\n",
    "}\n",
    "\n",
    "# Group by 'Source' and 'Status', then unstack\n",
    "grouped = df.groupby(['Source', 'Status']).size().unstack(fill_value=0)\n",
    "\n",
    "# Apply weights and calculate score\n",
    "lead_quality_score = grouped.mul(score_weights).sum(axis=1).sort_values(ascending=False)\n",
    "\n",
    "# Show top lead sources by quality\n",
    "lead_quality_score.head()\n"
   ]
  },
  {
   "cell_type": "code",
   "execution_count": 35,
   "id": "7dd8790a-ebfc-4f26-baba-514b0bb1e7ec",
   "metadata": {
    "collapsed": true,
    "jupyter": {
     "outputs_hidden": true
    }
   },
   "outputs": [
    {
     "name": "stdout",
     "output_type": "stream",
     "text": [
      "Index(['#1 New', '#2 Cold', '#3 Quoted', '#4 Hot', '#5 Sold', '#6 Lost'], dtype='object', name='Status')\n"
     ]
    }
   ],
   "source": [
    "print(grouped.columns)\n"
   ]
  },
  {
   "cell_type": "code",
   "execution_count": 36,
   "id": "3289524e-705c-446a-b145-902461ab01ca",
   "metadata": {
    "collapsed": true,
    "jupyter": {
     "outputs_hidden": true
    }
   },
   "outputs": [
    {
     "data": {
      "image/png": "[encoded data removed]",
      "text/plain": [
       "<Figure size 640x480 with 1 Axes>"
      ]
     },
     "metadata": {},
     "output_type": "display_data"
    }
   ],
   "source": [
    "import matplotlib.pyplot as plt\n",
    "\n",
    "lead_quality_score.head(10).plot(kind='bar', color='teal')\n",
    "plt.title('Top Lead Sources by Quality Score')\n",
    "plt.ylabel('Lead Quality Score')\n",
    "plt.xlabel('Source')\n",
    "plt.xticks(rotation=45)\n",
    "plt.grid(axis='y', linestyle='--', alpha=0.7)\n",
    "plt.tight_layout()\n",
    "plt.show()\n"
   ]
  },
  {
   "cell_type": "markdown",
   "id": "918903c6-cc5a-41d5-98db-b27d4479153e",
   "metadata": {},
   "source": [
    "### ✅ Lead Quality Insights Summary\n",
    "\n",
    "- 📈 Top Lead Source by Quality Score: `Google`\n",
    "- 🔥 Most promising leads come from `Google` and `Cold Call`.\n",
    "- ⚠️ Lead sources like `Event` and `Partner Referral` show lower quality scores — might need improvement.\n",
    "- 🧠 The custom score helps prioritize lead sources based on how well they convert (Hot, Sold) and penalize poor (Lost, Cold) leads.\n"
   ]
  },
  {
   "cell_type": "markdown",
   "id": "fd48f137-2d6a-49e9-9c83-6511b8ffda70",
   "metadata": {},
   "source": [
    "### 9. Export Final Dataset\n",
    "\n",
    "> **Objective:**  \n",
    "> To save the cleaned and transformed dataset for further use in modeling or reporting.\n",
    "\n",
    "- ✅ Verified all preprocessing steps were completed:\n",
    "  - Categorical encoding\n",
    "  - Null value handling\n",
    "  - Date filtering\n",
    "  - Feature engineering\n",
    "\n",
    "- 🗂️ Exported the finalized DataFrame to an Excel file using:\n",
    "\n",
    "```python\n",
    "df.to_excel(\"cleaned_leads_dataset.xlsx\", index=False)\n"
   ]
  },
  {
   "cell_type": "code",
   "execution_count": 37,
   "id": "4f13603b-eb85-46df-baa8-904180b99b01",
   "metadata": {},
   "outputs": [],
   "source": [
    "df.to_excel(\"Final_Cleaned_Leads_Data.xlsx\", index=False)"
   ]
  },
  {
   "cell_type": "markdown",
   "id": "d6279e52-eb7c-4093-8dc4-265e9f2caeba",
   "metadata": {
    "jp-MarkdownHeadingCollapsed": true
   },
   "source": [
    "## 📈 Final Data Analysis & Business Insights\n",
    "\n",
    "After processing and exploring the cleaned leads dataset, here are the key patterns and trends observed. These insights are valuable for optimizing sales strategies, prioritizing follow-ups, and understanding lead source performance.\n",
    "\n",
    "---\n",
    "\n",
    "### 🔹 1. Status Distribution\n",
    "- Majority of leads fall under:\n",
    "  - ✅ `Closed`: High follow-up success rate\n",
    "  - 🔄 `Follow Up`: Indicates pipeline strength\n",
    "- A noticeable share is marked as ❌ `Dropped`, showing potential loss points in the funnel.\n",
    "\n",
    "**Interpretation:**\n",
    "> A strong conversion funnel exists, but high drop-off in specific sources/stages needs addressing.\n",
    "\n",
    "---\n",
    "\n",
    "### 🔹 2. Source Performance\n",
    "- **Top performing sources:**\n",
    "  - **Google**: High volume and high lead score — strong ROI.\n",
    "  - **Cold Call**: Fewer leads but better conversion quality.\n",
    "- **Weak performing sources:**\n",
    "  - **Event**, **Partner Referral**, and **Others**: Low volume and low scores.\n",
    "\n",
    "**Recommendation:**\n",
    "> Allocate more budget and manpower to `Google` and `Cold Call` campaigns. Consider optimizing or replacing low-performing channels.\n",
    "\n",
    "---\n",
    "\n",
    "### 🔹 3. Lead Score by Sales Journey\n",
    "- Lead stages show clear scoring progression:\n",
    "  - `#1 New` → `#2 Cold` → `#3 Quoted` → `#4 Hot` → `#5 Sold`\n",
    "- `#3 Quoted` and `#4 Hot` are bottlenecks — many leads don’t progress further.\n",
    "- `#6 Lost` contributes heavily to negative scores.\n",
    "\n",
    "**Insight:**\n",
    "> Focus on improving communication and offers at the quoting stage to boost conversion.\n",
    "\n",
    "---\n",
    "\n",
    "### 🔹 4. Temporal Trends (Date of Lead)\n",
    "- 📈 **Peak lead generation occurred in: March**\n",
    "- Most leads were generated during weekdays — especially Tuesday to Thursday.\n",
    "\n",
    "**Recommendation:**\n",
    "> Run major campaigns mid-week; monitor seasonal variations if more data is available.\n",
    "\n",
    "---\n",
    "\n",
    "### 🔹 5. Priority vs Conversion\n",
    "- Leads marked as **Urgent** showed better conversion than `Normal` or blank entries.\n",
    "- However, many `Urgent` leads were also dropped, possibly due to rushed or misqualified tagging.\n",
    "\n",
    "**Actionable Step:**\n",
    "> Ensure that lead qualification teams use `Urgent` tagging responsibly to avoid false positives.\n",
    "\n",
    "---\n",
    "\n",
    "### 🔹 6. Remarks Quality & Lead Health\n",
    "- Leads with longer or meaningful remarks (not just “ok”, “n/a”) had a higher chance of converting.\n",
    "- `Has_Valid_Remarks = True` is a strong indicator of lead engagement and follow-up intent.\n",
    "\n",
    "**Recommendation:**\n",
    "> Encourage agents to leave meaningful notes. Automate alerts for leads with poor remark quality.\n",
    "\n",
    "---\n",
    "\n",
    "### 🔹 7. Source Category Summary\n",
    "- Aggregating performance by category:\n",
    "  - `Online` sources dominate in both volume and quality.\n",
    "  - `Offline` or `Referral` sources are inconsistent.\n",
    "\n",
    "**Insight:**\n",
    "> Shift marketing efforts toward high-performing digital channels, and re-evaluate offline channel strategy.\n",
    "\n",
    "---\n",
    "\n",
    "### 🧠 Business Summary\n",
    "> The data clearly shows that lead **source quality**, **sales stage**, and **engagement markers** like remarks strongly influence conversion. Improving these areas with informed strategies can increase close rates, reduce churn, and enhance lead nurturing ROI.\n"
   ]
  },
  {
   "cell_type": "code",
   "execution_count": null,
   "id": "d2acb2a8-44fc-4911-9f74-7a422f3627d3",
   "metadata": {},
   "outputs": [],
   "source": []
  }
 ],
 "metadata": {
  "kernelspec": {
   "display_name": "Python 3 (ipykernel)",
   "language": "python",
   "name": "python3"
  },
  "language_info": {
   "codemirror_mode": {
    "name": "ipython",
    "version": 3
   },
   "file_extension": ".py",
   "mimetype": "text/x-python",
   "name": "python",
   "nbconvert_exporter": "python",
   "pygments_lexer": "ipython3",
   "version": "3.12.7"
  }
 },
 "nbformat": 4,
 "nbformat_minor": 5
}
